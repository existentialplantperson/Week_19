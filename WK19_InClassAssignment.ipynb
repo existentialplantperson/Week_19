{
 "cells": [
  {
   "cell_type": "markdown",
   "id": "5cf80b39",
   "metadata": {},
   "source": [
    "##### Week 19 - Group Activity\n",
    "\n",
    "###### Angela Spencer - February 2, 2022"
   ]
  },
  {
   "cell_type": "markdown",
   "id": "5c35faf8",
   "metadata": {},
   "source": [
    "##### 1. Take one of the supervised learning models you have built recently and apply at least three dimensionality reduction techniques to it (separately). Be sure to create a short summary of each technique you use. Indicate how each changed the model performance. Reference:\n",
    "        https://machinelearningmastery.com/dimensionality-reduction-algorithms-with-python/\n"
   ]
  },
  {
   "cell_type": "code",
   "execution_count": 1,
   "id": "827292c7",
   "metadata": {},
   "outputs": [],
   "source": [
    "import numpy as np\n",
    "import pandas as pd\n",
    "import matplotlib.pyplot as plt\n",
    "from sklearn.linear_model import LogisticRegression\n",
    "from sklearn.preprocessing import StandardScaler\n",
    "from sklearn.model_selection import train_test_split"
   ]
  },
  {
   "cell_type": "markdown",
   "id": "1c35305c",
   "metadata": {},
   "source": [
    "#### Diabetes Dataset with Logistic Regression Model"
   ]
  },
  {
   "cell_type": "code",
   "execution_count": 2,
   "id": "dc20a319",
   "metadata": {},
   "outputs": [
    {
     "data": {
      "text/plain": [
       "0.7359307359307359"
      ]
     },
     "execution_count": 2,
     "metadata": {},
     "output_type": "execute_result"
    }
   ],
   "source": [
    "diabetes_df = pd.read_csv(\"../Datasets/diabetes.csv\")\n",
    "\n",
    "X = diabetes_df.drop('Outcome', axis=1).values\n",
    "y = diabetes_df['Outcome'].values\n",
    "\n",
    "X_train, X_test, y_train, y_test = train_test_split(X,y,test_size=0.3, random_state=42, stratify=y)\n",
    "\n",
    "sc=StandardScaler()\n",
    "X_train_sc = sc.fit_transform(X_train)\n",
    "X_test_sc = sc.fit_transform(X_test)\n",
    "\n",
    "#LogisticRegression\n",
    "\n",
    "clr = LogisticRegression(random_state=42).fit(X_train_sc, y_train)\n",
    "\n",
    "#predict\n",
    "y_predicted = clr.predict(X_test_sc)\n",
    "\n",
    "#accuracy\n",
    "clr.score(X_test_sc, y_test)"
   ]
  },
  {
   "cell_type": "markdown",
   "id": "61c08f73",
   "metadata": {},
   "source": [
    "##### Singular Value Decomposition\n",
    "https://scikit-learn.org/stable/modules/generated/sklearn.decomposition.TruncatedSVD.html\n",
    "https://machinelearningmastery.com/singular-value-decomposition-for-machine-learning/\n",
    "\n",
    "SVD breaks a matrix down to its component parts. For the diabetes dataset, SVD produced an accuracy score of 0.71"
   ]
  },
  {
   "cell_type": "code",
   "execution_count": 3,
   "id": "5ec794c2",
   "metadata": {},
   "outputs": [
    {
     "data": {
      "text/plain": [
       "0.70995670995671"
      ]
     },
     "execution_count": 3,
     "metadata": {},
     "output_type": "execute_result"
    }
   ],
   "source": [
    "from sklearn.decomposition import TruncatedSVD\n",
    "\n",
    "svd = TruncatedSVD(n_components=6)\n",
    "\n",
    "X_train_svd = svd.fit_transform(X_train)\n",
    "X_test_svd = svd.fit_transform(X_test)\n",
    "\n",
    "clr = LogisticRegression(random_state=42).fit(X_train_svd, y_train)\n",
    "\n",
    "clr.score(X_test_svd, y_test)"
   ]
  },
  {
   "cell_type": "markdown",
   "id": "27653dd0",
   "metadata": {},
   "source": [
    "##### Linear Discriminant Analysis\n",
    "https://scikit-learn.org/stable/modules/generated/sklearn.discriminant_analysis.LinearDiscriminantAnalysis.html\n",
    "https://machinelearningmastery.com/linear-discriminant-analysis-for-dimensionality-reduction-in-python/\n",
    "\n",
    "LDA is most often used for multi-class classification problems.  LDA reduces the number of input variables in the dataset. \n",
    "\n",
    "LDA on the diabetes dataset - Because the diabetes dataset has 2 classes, the maximum number of components to use is 1. We found that LDA gave an accuracy score of 0.37 - this makes sense as this technique is not used for binary classification."
   ]
  },
  {
   "cell_type": "code",
   "execution_count": 8,
   "id": "5c47b57b",
   "metadata": {},
   "outputs": [
    {
     "data": {
      "text/plain": [
       "0.36796536796536794"
      ]
     },
     "execution_count": 8,
     "metadata": {},
     "output_type": "execute_result"
    }
   ],
   "source": [
    "from sklearn.discriminant_analysis import LinearDiscriminantAnalysis\n",
    "\n",
    "lda = LinearDiscriminantAnalysis(n_components=1)\n",
    "\n",
    "X_train_lda = lda.fit_transform(X_train, y_train)\n",
    "X_test_lda = lda.fit_transform(X_test, y_test)\n",
    "\n",
    "clr = LogisticRegression(random_state=42).fit(X_train_lda, y_train)\n",
    "\n",
    "clr.score(X_test_lda, y_test)"
   ]
  },
  {
   "cell_type": "markdown",
   "id": "b8449e7d",
   "metadata": {},
   "source": [
    "##### Principal Component Analysis\n",
    "https://scikit-learn.org/stable/modules/generated/sklearn.decomposition.PCA.html\n",
    "https://machinelearningmastery.com/calculate-principal-component-analysis-scratch-python/\n",
    "https://www.datacamp.com/community/tutorials/principal-component-analysis-in-python\n",
    "\n",
    "PCA is used to reduce the number of features by finding the related components in the dataset and removing the non-essential components. It projects the high dimensional original data into a lower dimensional subspace.\n",
    "\n",
    "PCA on the diabetes dataset - A PCA with 6 components gave an accuracy score of 0.75"
   ]
  },
  {
   "cell_type": "code",
   "execution_count": 5,
   "id": "7b35b3f1",
   "metadata": {},
   "outputs": [
    {
     "data": {
      "text/plain": [
       "0.7489177489177489"
      ]
     },
     "execution_count": 5,
     "metadata": {},
     "output_type": "execute_result"
    }
   ],
   "source": [
    "from sklearn.decomposition import PCA\n",
    "\n",
    "pca = PCA(n_components = 6, random_state=42)\n",
    "\n",
    "X_train_pca = pca.fit_transform(X_train)\n",
    "X_test_pca = pca.fit_transform(X_test)\n",
    "\n",
    "clr = LogisticRegression(random_state = 42).fit(X_train_pca, y_train)\n",
    "\n",
    "clr.score(X_test_pca, y_test)"
   ]
  },
  {
   "cell_type": "markdown",
   "id": "c24f5468",
   "metadata": {},
   "source": [
    "##### 2. Write a function that will indicate if an inputted IPv4 address is accurate or not. IP addresses are valid if they have 4 values between 0 and 255 (inclusive), punctuated by periods.\n",
    "        Input 1:\n",
    "        2.33.245.5\n",
    "        Output 1:\n",
    "        True\n",
    "        Input 2:\n",
    "        12.345.67.89\n",
    "        Output 2:\n",
    "        False"
   ]
  },
  {
   "cell_type": "code",
   "execution_count": 24,
   "id": "42adb805",
   "metadata": {},
   "outputs": [],
   "source": [
    "import numbers\n",
    "\n",
    "# define a function to take in an IP address\n",
    "\n",
    "def IPv4_address(address):\n",
    "    \n",
    "    #if the string does not contain 3 period, return false\n",
    "    if address.count(\".\") !=3:\n",
    "        return False\n",
    "    \n",
    "    #if an empty string, return False\n",
    "    elif address == \"\":\n",
    "        return False\n",
    "\n",
    "    # else split address with period as delimiter\n",
    "    else:\n",
    "        lst_split_address = address.split(\".\")\n",
    "        \n",
    "        #for each group of numbers, k, if k is not numeric, return False and break\n",
    "        for k in lst_split_address:\n",
    "            if k.isnumeric() == False:\n",
    "                return False\n",
    "                break\n",
    "        \n",
    "        #for each group of numbers (num), cast to integer and populate list\n",
    "        slice_split_address = [int(num) for num in lst_split_address[0:]]\n",
    "        \n",
    "        #set m to 0\n",
    "        m=0\n",
    "        \n",
    "        # for each group of numbers, u in list of number groups\n",
    "        for u in slice_split_address:\n",
    "            \n",
    "            #if u is > 255, return False\n",
    "            if u > 255:\n",
    "                return False\n",
    "            \n",
    "            #else, update m\n",
    "            else:\n",
    "                m = m + 1\n",
    "        \n",
    "        #if m = 4 (there are 4 groups of numbers, each > 255) return True\n",
    "        if m == 4:\n",
    "            return True\n",
    "        else:\n",
    "            return False"
   ]
  },
  {
   "cell_type": "code",
   "execution_count": 20,
   "id": "cfe03449",
   "metadata": {},
   "outputs": [
    {
     "data": {
      "text/plain": [
       "False"
      ]
     },
     "execution_count": 20,
     "metadata": {},
     "output_type": "execute_result"
    }
   ],
   "source": [
    "IPv4_address('12.256.67.89')"
   ]
  },
  {
   "cell_type": "code",
   "execution_count": 23,
   "id": "2e4685ec",
   "metadata": {},
   "outputs": [
    {
     "data": {
      "text/plain": [
       "True"
      ]
     },
     "execution_count": 23,
     "metadata": {},
     "output_type": "execute_result"
    }
   ],
   "source": [
    "IPv4_address('2.66.245.5')"
   ]
  }
 ],
 "metadata": {
  "kernelspec": {
   "display_name": "Python 3 (ipykernel)",
   "language": "python",
   "name": "python3"
  },
  "language_info": {
   "codemirror_mode": {
    "name": "ipython",
    "version": 3
   },
   "file_extension": ".py",
   "mimetype": "text/x-python",
   "name": "python",
   "nbconvert_exporter": "python",
   "pygments_lexer": "ipython3",
   "version": "3.9.7"
  }
 },
 "nbformat": 4,
 "nbformat_minor": 5
}
