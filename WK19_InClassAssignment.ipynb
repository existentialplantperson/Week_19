{
 "cells": [
  {
   "cell_type": "markdown",
   "id": "5cf80b39",
   "metadata": {},
   "source": [
    "##### Week 19 - Group Activity\n",
    "\n",
    "###### Angela Spencer - February 2, 2022"
   ]
  },
  {
   "cell_type": "markdown",
   "id": "5c35faf8",
   "metadata": {},
   "source": [
    "##### 1. Take one of the supervised learning models you have built recently and apply at least three dimensionality reduction techniques to it (separately). Be sure to create a short summary of each technique you use. Indicate how each changed the model performance. Reference:\n",
    "        https://machinelearningmastery.com/dimensionality-reduction-algorithms-with-python/\n"
   ]
  },
  {
   "cell_type": "code",
   "execution_count": null,
   "id": "827292c7",
   "metadata": {},
   "outputs": [],
   "source": []
  },
  {
   "cell_type": "markdown",
   "id": "c24f5468",
   "metadata": {},
   "source": [
    "##### 2. Write a function that will indicate if an inputted IPv4 address is accurate or not. IP addresses are valid if they have 4 values between 0 and 255 (inclusive), punctuated by periods.\n",
    "        Input 1:\n",
    "        2.33.245.5\n",
    "        Output 1:\n",
    "        True\n",
    "        Input 2:\n",
    "        12.345.67.89\n",
    "        Output 2:\n",
    "        False"
   ]
  },
  {
   "cell_type": "code",
   "execution_count": null,
   "id": "42adb805",
   "metadata": {},
   "outputs": [],
   "source": []
  }
 ],
 "metadata": {
  "kernelspec": {
   "display_name": "Python 3 (ipykernel)",
   "language": "python",
   "name": "python3"
  },
  "language_info": {
   "codemirror_mode": {
    "name": "ipython",
    "version": 3
   },
   "file_extension": ".py",
   "mimetype": "text/x-python",
   "name": "python",
   "nbconvert_exporter": "python",
   "pygments_lexer": "ipython3",
   "version": "3.9.7"
  }
 },
 "nbformat": 4,
 "nbformat_minor": 5
}
