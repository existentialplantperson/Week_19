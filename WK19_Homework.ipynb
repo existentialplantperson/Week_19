{
 "cells": [
  {
   "cell_type": "markdown",
   "id": "8040653e",
   "metadata": {},
   "source": [
    "#### Week 19 - Homework\n",
    "\n",
    "###### Angela Spencer - February 9, 2022"
   ]
  },
  {
   "cell_type": "markdown",
   "id": "42f2904a",
   "metadata": {},
   "source": [
    "##### 1.\tCreate a study guide for all the supervised learning models we have gone over. Include information about how the algorithms work, how they are evaluated, and any other information you deem necessary. Use your own words. Do NOT copy mine or that of articles we have read."
   ]
  },
  {
   "cell_type": "code",
   "execution_count": null,
   "id": "b6fd698c",
   "metadata": {},
   "outputs": [],
   "source": []
  },
  {
   "cell_type": "markdown",
   "id": "2025a7a6",
   "metadata": {},
   "source": [
    "##### 2. Do the same as question 1 except for unsupervised learning models. Something that is necessary for many models is determining number, so specify how you determine the number of clusters for example. Apply this concept to any other algorithms it is relevant for.\n",
    " "
   ]
  },
  {
   "cell_type": "code",
   "execution_count": null,
   "id": "b67b3761",
   "metadata": {},
   "outputs": [],
   "source": []
  },
  {
   "cell_type": "markdown",
   "id": "4dd7886a",
   "metadata": {},
   "source": [
    "##### 3. Preprocess the customer data https://www.kaggle.com/carrie1/ecommerce-data . How are you handling nulls? What process(es) are you using to encode and normalize the data?\n"
   ]
  },
  {
   "cell_type": "code",
   "execution_count": null,
   "id": "a6d6a7c4",
   "metadata": {},
   "outputs": [],
   "source": []
  },
  {
   "cell_type": "markdown",
   "id": "4427d674",
   "metadata": {},
   "source": [
    "##### 4. Perform k-means on this dataset for customer segments. Customer segments help determine what types of people buy your product, which allows you to target more people like your usual customers. Should you look at all the data, or which subset of data should you use? What is the ideal number of clusters? Which approach did you use to find the ideal number of clusters and why?\n"
   ]
  },
  {
   "cell_type": "code",
   "execution_count": null,
   "id": "98f41106",
   "metadata": {},
   "outputs": [],
   "source": []
  },
  {
   "cell_type": "markdown",
   "id": "6beacb59",
   "metadata": {},
   "source": [
    "##### 5. Perform hierarchical clustering for customer segments. What is the ideal number of clusters? Which approach did you use to find the ideal number of clusters and why?\n"
   ]
  },
  {
   "cell_type": "code",
   "execution_count": null,
   "id": "b77c3822",
   "metadata": {},
   "outputs": [],
   "source": []
  },
  {
   "cell_type": "markdown",
   "id": "0e440a08",
   "metadata": {},
   "source": [
    "##### 6. Compare the results of 4 and 5. Which approach do you think is best? Why?"
   ]
  },
  {
   "cell_type": "code",
   "execution_count": null,
   "id": "d323179e",
   "metadata": {},
   "outputs": [],
   "source": []
  }
 ],
 "metadata": {
  "kernelspec": {
   "display_name": "Python 3 (ipykernel)",
   "language": "python",
   "name": "python3"
  },
  "language_info": {
   "codemirror_mode": {
    "name": "ipython",
    "version": 3
   },
   "file_extension": ".py",
   "mimetype": "text/x-python",
   "name": "python",
   "nbconvert_exporter": "python",
   "pygments_lexer": "ipython3",
   "version": "3.9.7"
  }
 },
 "nbformat": 4,
 "nbformat_minor": 5
}
